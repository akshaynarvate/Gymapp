{
  "nbformat": 4,
  "nbformat_minor": 0,
  "metadata": {
    "colab": {
      "name": "Gymapp.ipynb",
      "provenance": [],
      "collapsed_sections": []
    },
    "kernelspec": {
      "name": "python3",
      "display_name": "Python 3"
    },
    "language_info": {
      "name": "python"
    }
  },
  "cells": [
    {
      "cell_type": "code",
      "execution_count": 30,
      "metadata": {
        "id": "qsad-QFEHi_X"
      },
      "outputs": [],
      "source": [
        "# Importing necessary libraries\n",
        "\n",
        "import pandas as pd\n",
        "import numpy as np\n",
        "import seaborn as sns\n",
        "import matplotlib.pyplot as plt\n",
        "from sklearn import metrics\n",
        "from sklearn.linear_model import LogisticRegression\n",
        "from sklearn.ensemble import RandomForestClassifier\n",
        "from sklearn.svm import SVC\n",
        "import xgboost as xgb"
      ]
    },
    {
      "cell_type": "code",
      "source": [
        "# Reading the excel file as DataFrame\n",
        "\n",
        "gym = pd.read_excel(\"/content/dataGYM.xlsx\")"
      ],
      "metadata": {
        "id": "5pdz08Yv2QtU"
      },
      "execution_count": 31,
      "outputs": []
    },
    {
      "cell_type": "code",
      "source": [
        "gym.head()"
      ],
      "metadata": {
        "colab": {
          "base_uri": "https://localhost:8080/",
          "height": 206
        },
        "id": "J9OzPXCG2oy5",
        "outputId": "8a9d7d76-7f26-47f3-fe29-c4462e057cc5"
      },
      "execution_count": 32,
      "outputs": [
        {
          "output_type": "execute_result",
          "data": {
            "text/plain": [
              "   Age  Height  weight  BMI            Class  \\\n",
              "0   48     4.1      86   40  Extremely obese   \n",
              "1   53     4.1      91   42  Extremely obese   \n",
              "2   42     4.1      95   44  Extremely obese   \n",
              "3   48     4.1     100   46  Extremely obese   \n",
              "4   22     4.1     104   48  Extremely obese   \n",
              "\n",
              "                                          Prediction  \n",
              "0  Extremely obese--normal exercise+yoga+heavy di...  \n",
              "1  Extremely obese--normal exercise+yoga+heavy di...  \n",
              "2  Extremely obese--normal exercise+yoga+heavy di...  \n",
              "3  Extremely obese--normal exercise+yoga+heavy di...  \n",
              "4  Extremely obese--normal exercise+yoga+heavy di...  "
            ],
            "text/html": [
              "\n",
              "  <div id=\"df-5e3688e8-0953-457f-ac14-198e3c405eed\">\n",
              "    <div class=\"colab-df-container\">\n",
              "      <div>\n",
              "<style scoped>\n",
              "    .dataframe tbody tr th:only-of-type {\n",
              "        vertical-align: middle;\n",
              "    }\n",
              "\n",
              "    .dataframe tbody tr th {\n",
              "        vertical-align: top;\n",
              "    }\n",
              "\n",
              "    .dataframe thead th {\n",
              "        text-align: right;\n",
              "    }\n",
              "</style>\n",
              "<table border=\"1\" class=\"dataframe\">\n",
              "  <thead>\n",
              "    <tr style=\"text-align: right;\">\n",
              "      <th></th>\n",
              "      <th>Age</th>\n",
              "      <th>Height</th>\n",
              "      <th>weight</th>\n",
              "      <th>BMI</th>\n",
              "      <th>Class</th>\n",
              "      <th>Prediction</th>\n",
              "    </tr>\n",
              "  </thead>\n",
              "  <tbody>\n",
              "    <tr>\n",
              "      <th>0</th>\n",
              "      <td>48</td>\n",
              "      <td>4.1</td>\n",
              "      <td>86</td>\n",
              "      <td>40</td>\n",
              "      <td>Extremely obese</td>\n",
              "      <td>Extremely obese--normal exercise+yoga+heavy di...</td>\n",
              "    </tr>\n",
              "    <tr>\n",
              "      <th>1</th>\n",
              "      <td>53</td>\n",
              "      <td>4.1</td>\n",
              "      <td>91</td>\n",
              "      <td>42</td>\n",
              "      <td>Extremely obese</td>\n",
              "      <td>Extremely obese--normal exercise+yoga+heavy di...</td>\n",
              "    </tr>\n",
              "    <tr>\n",
              "      <th>2</th>\n",
              "      <td>42</td>\n",
              "      <td>4.1</td>\n",
              "      <td>95</td>\n",
              "      <td>44</td>\n",
              "      <td>Extremely obese</td>\n",
              "      <td>Extremely obese--normal exercise+yoga+heavy di...</td>\n",
              "    </tr>\n",
              "    <tr>\n",
              "      <th>3</th>\n",
              "      <td>48</td>\n",
              "      <td>4.1</td>\n",
              "      <td>100</td>\n",
              "      <td>46</td>\n",
              "      <td>Extremely obese</td>\n",
              "      <td>Extremely obese--normal exercise+yoga+heavy di...</td>\n",
              "    </tr>\n",
              "    <tr>\n",
              "      <th>4</th>\n",
              "      <td>22</td>\n",
              "      <td>4.1</td>\n",
              "      <td>104</td>\n",
              "      <td>48</td>\n",
              "      <td>Extremely obese</td>\n",
              "      <td>Extremely obese--normal exercise+yoga+heavy di...</td>\n",
              "    </tr>\n",
              "  </tbody>\n",
              "</table>\n",
              "</div>\n",
              "      <button class=\"colab-df-convert\" onclick=\"convertToInteractive('df-5e3688e8-0953-457f-ac14-198e3c405eed')\"\n",
              "              title=\"Convert this dataframe to an interactive table.\"\n",
              "              style=\"display:none;\">\n",
              "        \n",
              "  <svg xmlns=\"http://www.w3.org/2000/svg\" height=\"24px\"viewBox=\"0 0 24 24\"\n",
              "       width=\"24px\">\n",
              "    <path d=\"M0 0h24v24H0V0z\" fill=\"none\"/>\n",
              "    <path d=\"M18.56 5.44l.94 2.06.94-2.06 2.06-.94-2.06-.94-.94-2.06-.94 2.06-2.06.94zm-11 1L8.5 8.5l.94-2.06 2.06-.94-2.06-.94L8.5 2.5l-.94 2.06-2.06.94zm10 10l.94 2.06.94-2.06 2.06-.94-2.06-.94-.94-2.06-.94 2.06-2.06.94z\"/><path d=\"M17.41 7.96l-1.37-1.37c-.4-.4-.92-.59-1.43-.59-.52 0-1.04.2-1.43.59L10.3 9.45l-7.72 7.72c-.78.78-.78 2.05 0 2.83L4 21.41c.39.39.9.59 1.41.59.51 0 1.02-.2 1.41-.59l7.78-7.78 2.81-2.81c.8-.78.8-2.07 0-2.86zM5.41 20L4 18.59l7.72-7.72 1.47 1.35L5.41 20z\"/>\n",
              "  </svg>\n",
              "      </button>\n",
              "      \n",
              "  <style>\n",
              "    .colab-df-container {\n",
              "      display:flex;\n",
              "      flex-wrap:wrap;\n",
              "      gap: 12px;\n",
              "    }\n",
              "\n",
              "    .colab-df-convert {\n",
              "      background-color: #E8F0FE;\n",
              "      border: none;\n",
              "      border-radius: 50%;\n",
              "      cursor: pointer;\n",
              "      display: none;\n",
              "      fill: #1967D2;\n",
              "      height: 32px;\n",
              "      padding: 0 0 0 0;\n",
              "      width: 32px;\n",
              "    }\n",
              "\n",
              "    .colab-df-convert:hover {\n",
              "      background-color: #E2EBFA;\n",
              "      box-shadow: 0px 1px 2px rgba(60, 64, 67, 0.3), 0px 1px 3px 1px rgba(60, 64, 67, 0.15);\n",
              "      fill: #174EA6;\n",
              "    }\n",
              "\n",
              "    [theme=dark] .colab-df-convert {\n",
              "      background-color: #3B4455;\n",
              "      fill: #D2E3FC;\n",
              "    }\n",
              "\n",
              "    [theme=dark] .colab-df-convert:hover {\n",
              "      background-color: #434B5C;\n",
              "      box-shadow: 0px 1px 3px 1px rgba(0, 0, 0, 0.15);\n",
              "      filter: drop-shadow(0px 1px 2px rgba(0, 0, 0, 0.3));\n",
              "      fill: #FFFFFF;\n",
              "    }\n",
              "  </style>\n",
              "\n",
              "      <script>\n",
              "        const buttonEl =\n",
              "          document.querySelector('#df-5e3688e8-0953-457f-ac14-198e3c405eed button.colab-df-convert');\n",
              "        buttonEl.style.display =\n",
              "          google.colab.kernel.accessAllowed ? 'block' : 'none';\n",
              "\n",
              "        async function convertToInteractive(key) {\n",
              "          const element = document.querySelector('#df-5e3688e8-0953-457f-ac14-198e3c405eed');\n",
              "          const dataTable =\n",
              "            await google.colab.kernel.invokeFunction('convertToInteractive',\n",
              "                                                     [key], {});\n",
              "          if (!dataTable) return;\n",
              "\n",
              "          const docLinkHtml = 'Like what you see? Visit the ' +\n",
              "            '<a target=\"_blank\" href=https://colab.research.google.com/notebooks/data_table.ipynb>data table notebook</a>'\n",
              "            + ' to learn more about interactive tables.';\n",
              "          element.innerHTML = '';\n",
              "          dataTable['output_type'] = 'display_data';\n",
              "          await google.colab.output.renderOutput(dataTable, element);\n",
              "          const docLink = document.createElement('div');\n",
              "          docLink.innerHTML = docLinkHtml;\n",
              "          element.appendChild(docLink);\n",
              "        }\n",
              "      </script>\n",
              "    </div>\n",
              "  </div>\n",
              "  "
            ]
          },
          "metadata": {},
          "execution_count": 32
        }
      ]
    },
    {
      "cell_type": "code",
      "source": [
        "# Dropping the Prediction Column\n",
        "\n",
        "gym = gym.drop(\"Prediction\", axis=1)"
      ],
      "metadata": {
        "id": "oyztQaubxMaS"
      },
      "execution_count": 33,
      "outputs": []
    },
    {
      "cell_type": "code",
      "source": [
        "gym.info()"
      ],
      "metadata": {
        "colab": {
          "base_uri": "https://localhost:8080/"
        },
        "id": "HiDJmaFrvuC6",
        "outputId": "34fc5140-edff-43f9-b67f-ab1571cb8255"
      },
      "execution_count": 34,
      "outputs": [
        {
          "output_type": "stream",
          "name": "stdout",
          "text": [
            "<class 'pandas.core.frame.DataFrame'>\n",
            "RangeIndex: 1176 entries, 0 to 1175\n",
            "Data columns (total 5 columns):\n",
            " #   Column  Non-Null Count  Dtype  \n",
            "---  ------  --------------  -----  \n",
            " 0   Age     1176 non-null   int64  \n",
            " 1   Height  1176 non-null   float64\n",
            " 2   weight  1176 non-null   int64  \n",
            " 3   BMI     1176 non-null   int64  \n",
            " 4   Class   1176 non-null   object \n",
            "dtypes: float64(1), int64(3), object(1)\n",
            "memory usage: 46.1+ KB\n"
          ]
        }
      ]
    },
    {
      "cell_type": "code",
      "source": [
        "#Unique value count of class column\n",
        "\n",
        "gym[\"Class\"].value_counts()"
      ],
      "metadata": {
        "colab": {
          "base_uri": "https://localhost:8080/"
        },
        "id": "wvUL5th77PXE",
        "outputId": "4b91c74e-40c3-4a82-d28c-2164d923e1f2"
      },
      "execution_count": 35,
      "outputs": [
        {
          "output_type": "execute_result",
          "data": {
            "text/plain": [
              "Obese              281\n",
              "Under weight       248\n",
              "Healthy            232\n",
              "Extremely obese    212\n",
              "Overweight         199\n",
              "EXtremely obese      4\n",
              "Name: Class, dtype: int64"
            ]
          },
          "metadata": {},
          "execution_count": 35
        }
      ]
    },
    {
      "cell_type": "code",
      "source": [
        "gym.columns = ['Age', 'Height(feet)', 'weight(kgs)', 'BMI', 'Class']\n",
        "print(gym.head())"
      ],
      "metadata": {
        "colab": {
          "base_uri": "https://localhost:8080/"
        },
        "id": "6CmCTbWcwPqs",
        "outputId": "6357b68e-a819-4108-9c63-7bf056256416"
      },
      "execution_count": 36,
      "outputs": [
        {
          "output_type": "stream",
          "name": "stdout",
          "text": [
            "   Age  Height(feet)  weight(kgs)  BMI            Class\n",
            "0   48           4.1           86   40  Extremely obese\n",
            "1   53           4.1           91   42  Extremely obese\n",
            "2   42           4.1           95   44  Extremely obese\n",
            "3   48           4.1          100   46  Extremely obese\n",
            "4   22           4.1          104   48  Extremely obese\n"
          ]
        }
      ]
    },
    {
      "cell_type": "code",
      "source": [
        "# Distribution of Age \n",
        "\n",
        "sns.distplot(gym[\"Age\"])"
      ],
      "metadata": {
        "colab": {
          "base_uri": "https://localhost:8080/",
          "height": 354
        },
        "id": "w5QDMq40zEHW",
        "outputId": "1a7f6aad-61b8-4549-f85b-ac5f634c2ad9"
      },
      "execution_count": 37,
      "outputs": [
        {
          "output_type": "stream",
          "name": "stderr",
          "text": [
            "/usr/local/lib/python3.7/dist-packages/seaborn/distributions.py:2619: FutureWarning: `distplot` is a deprecated function and will be removed in a future version. Please adapt your code to use either `displot` (a figure-level function with similar flexibility) or `histplot` (an axes-level function for histograms).\n",
            "  warnings.warn(msg, FutureWarning)\n"
          ]
        },
        {
          "output_type": "execute_result",
          "data": {
            "text/plain": [
              "<matplotlib.axes._subplots.AxesSubplot at 0x7f1cb006ba90>"
            ]
          },
          "metadata": {},
          "execution_count": 37
        },
        {
          "output_type": "display_data",
          "data": {
            "text/plain": [
              "<Figure size 432x288 with 1 Axes>"
            ],
            "image/png": "[encoded data removed]"
          },
          "metadata": {
            "needs_background": "light"
          }
        }
      ]
    },
    {
      "cell_type": "code",
      "source": [
        "# Distribution of Height\n",
        "\n",
        "sns.distplot(gym[\"Height(feet)\"])"
      ],
      "metadata": {
        "colab": {
          "base_uri": "https://localhost:8080/",
          "height": 354
        },
        "id": "T-T-w-C6zUt_",
        "outputId": "959f7cfb-af66-40dc-ab5a-1916a7543f4a"
      },
      "execution_count": 38,
      "outputs": [
        {
          "output_type": "stream",
          "name": "stderr",
          "text": [
            "/usr/local/lib/python3.7/dist-packages/seaborn/distributions.py:2619: FutureWarning: `distplot` is a deprecated function and will be removed in a future version. Please adapt your code to use either `displot` (a figure-level function with similar flexibility) or `histplot` (an axes-level function for histograms).\n",
            "  warnings.warn(msg, FutureWarning)\n"
          ]
        },
        {
          "output_type": "execute_result",
          "data": {
            "text/plain": [
              "<matplotlib.axes._subplots.AxesSubplot at 0x7f1cb02083d0>"
            ]
          },
          "metadata": {},
          "execution_count": 38
        },
        {
          "output_type": "display_data",
          "data": {
            "text/plain": [
              "<Figure size 432x288 with 1 Axes>"
            ],
            "image/png": "[encoded data removed]"
          },
          "metadata": {
            "needs_background": "light"
          }
        }
      ]
    },
    {
      "cell_type": "code",
      "source": [
        "# Distribution of weight\n",
        "\n",
        "sns.distplot(gym[\"weight(kgs)\"])"
      ],
      "metadata": {
        "colab": {
          "base_uri": "https://localhost:8080/",
          "height": 357
        },
        "id": "-Ko_3bRBzjZ9",
        "outputId": "53198bb4-5d80-4269-dfb1-a27be9eaa016"
      },
      "execution_count": 39,
      "outputs": [
        {
          "output_type": "stream",
          "name": "stderr",
          "text": [
            "/usr/local/lib/python3.7/dist-packages/seaborn/distributions.py:2619: FutureWarning: `distplot` is a deprecated function and will be removed in a future version. Please adapt your code to use either `displot` (a figure-level function with similar flexibility) or `histplot` (an axes-level function for histograms).\n",
            "  warnings.warn(msg, FutureWarning)\n"
          ]
        },
        {
          "output_type": "execute_result",
          "data": {
            "text/plain": [
              "<matplotlib.axes._subplots.AxesSubplot at 0x7f1caff5c910>"
            ]
          },
          "metadata": {},
          "execution_count": 39
        },
        {
          "output_type": "display_data",
          "data": {
            "text/plain": [
              "<Figure size 432x288 with 1 Axes>"
            ],
            "image/png": "[encoded data removed]"
          },
          "metadata": {
            "needs_background": "light"
          }
        }
      ]
    },
    {
      "cell_type": "code",
      "source": [
        "# Distribution of BMI\n",
        "\n",
        "sns.distplot(gym[\"BMI\"])"
      ],
      "metadata": {
        "colab": {
          "base_uri": "https://localhost:8080/",
          "height": 354
        },
        "id": "WEa7iLGLz_Y1",
        "outputId": "9a710d67-1c16-4f4b-e07d-28ec14be1a6b"
      },
      "execution_count": 40,
      "outputs": [
        {
          "output_type": "stream",
          "name": "stderr",
          "text": [
            "/usr/local/lib/python3.7/dist-packages/seaborn/distributions.py:2619: FutureWarning: `distplot` is a deprecated function and will be removed in a future version. Please adapt your code to use either `displot` (a figure-level function with similar flexibility) or `histplot` (an axes-level function for histograms).\n",
            "  warnings.warn(msg, FutureWarning)\n"
          ]
        },
        {
          "output_type": "execute_result",
          "data": {
            "text/plain": [
              "<matplotlib.axes._subplots.AxesSubplot at 0x7f1cafe87a90>"
            ]
          },
          "metadata": {},
          "execution_count": 40
        },
        {
          "output_type": "display_data",
          "data": {
            "text/plain": [
              "<Figure size 432x288 with 1 Axes>"
            ],
            "image/png": "[encoded data removed]"
          },
          "metadata": {
            "needs_background": "light"
          }
        }
      ]
    },
    {
      "cell_type": "code",
      "source": [
        "# Correcting the spelling errors in Class column \n",
        "\n",
        "gym[\"Class\"] = gym[\"Class\"].replace([\"EXtremely obese\", \"Under weight\"], [\"Extremely obese\", \"Underweight\"])"
      ],
      "metadata": {
        "id": "XAXeKjKLmRPf"
      },
      "execution_count": 41,
      "outputs": []
    },
    {
      "cell_type": "code",
      "source": [
        "# Distribution of the Class column \n",
        "plt.figure(figsize=(9,5))\n",
        "sns.countplot(gym[\"Class\"])"
      ],
      "metadata": {
        "colab": {
          "base_uri": "https://localhost:8080/",
          "height": 409
        },
        "id": "YmsAxvCdlZ4l",
        "outputId": "7e7c6b79-c809-47d4-8dc4-506b7996a9ff"
      },
      "execution_count": 42,
      "outputs": [
        {
          "output_type": "stream",
          "name": "stderr",
          "text": [
            "/usr/local/lib/python3.7/dist-packages/seaborn/_decorators.py:43: FutureWarning: Pass the following variable as a keyword arg: x. From version 0.12, the only valid positional argument will be `data`, and passing other arguments without an explicit keyword will result in an error or misinterpretation.\n",
            "  FutureWarning\n"
          ]
        },
        {
          "output_type": "execute_result",
          "data": {
            "text/plain": [
              "<matplotlib.axes._subplots.AxesSubplot at 0x7f1cafef8490>"
            ]
          },
          "metadata": {},
          "execution_count": 42
        },
        {
          "output_type": "display_data",
          "data": {
            "text/plain": [
              "<Figure size 648x360 with 1 Axes>"
            ],
            "image/png": "[encoded data removed]"
          },
          "metadata": {
            "needs_background": "light"
          }
        }
      ]
    },
    {
      "cell_type": "code",
      "source": [
        "#Separating the feature column\n",
        "\n",
        "X = gym.iloc[:, :3]\n",
        "X.head()"
      ],
      "metadata": {
        "colab": {
          "base_uri": "https://localhost:8080/",
          "height": 206
        },
        "id": "J-lFuUcW4TBf",
        "outputId": "92700f4d-122b-4a46-a4a3-569e6fe129a7"
      },
      "execution_count": 43,
      "outputs": [
        {
          "output_type": "execute_result",
          "data": {
            "text/plain": [
              "   Age  Height(feet)  weight(kgs)\n",
              "0   48           4.1           86\n",
              "1   53           4.1           91\n",
              "2   42           4.1           95\n",
              "3   48           4.1          100\n",
              "4   22           4.1          104"
            ],
            "text/html": [
              "\n",
              "  <div id=\"df-80e338b8-cd6a-4bc0-8b90-55f9c272cd38\">\n",
              "    <div class=\"colab-df-container\">\n",
              "      <div>\n",
              "<style scoped>\n",
              "    .dataframe tbody tr th:only-of-type {\n",
              "        vertical-align: middle;\n",
              "    }\n",
              "\n",
              "    .dataframe tbody tr th {\n",
              "        vertical-align: top;\n",
              "    }\n",
              "\n",
              "    .dataframe thead th {\n",
              "        text-align: right;\n",
              "    }\n",
              "</style>\n",
              "<table border=\"1\" class=\"dataframe\">\n",
              "  <thead>\n",
              "    <tr style=\"text-align: right;\">\n",
              "      <th></th>\n",
              "      <th>Age</th>\n",
              "      <th>Height(feet)</th>\n",
              "      <th>weight(kgs)</th>\n",
              "    </tr>\n",
              "  </thead>\n",
              "  <tbody>\n",
              "    <tr>\n",
              "      <th>0</th>\n",
              "      <td>48</td>\n",
              "      <td>4.1</td>\n",
              "      <td>86</td>\n",
              "    </tr>\n",
              "    <tr>\n",
              "      <th>1</th>\n",
              "      <td>53</td>\n",
              "      <td>4.1</td>\n",
              "      <td>91</td>\n",
              "    </tr>\n",
              "    <tr>\n",
              "      <th>2</th>\n",
              "      <td>42</td>\n",
              "      <td>4.1</td>\n",
              "      <td>95</td>\n",
              "    </tr>\n",
              "    <tr>\n",
              "      <th>3</th>\n",
              "      <td>48</td>\n",
              "      <td>4.1</td>\n",
              "      <td>100</td>\n",
              "    </tr>\n",
              "    <tr>\n",
              "      <th>4</th>\n",
              "      <td>22</td>\n",
              "      <td>4.1</td>\n",
              "      <td>104</td>\n",
              "    </tr>\n",
              "  </tbody>\n",
              "</table>\n",
              "</div>\n",
              "      <button class=\"colab-df-convert\" onclick=\"convertToInteractive('df-80e338b8-cd6a-4bc0-8b90-55f9c272cd38')\"\n",
              "              title=\"Convert this dataframe to an interactive table.\"\n",
              "              style=\"display:none;\">\n",
              "        \n",
              "  <svg xmlns=\"http://www.w3.org/2000/svg\" height=\"24px\"viewBox=\"0 0 24 24\"\n",
              "       width=\"24px\">\n",
              "    <path d=\"M0 0h24v24H0V0z\" fill=\"none\"/>\n",
              "    <path d=\"M18.56 5.44l.94 2.06.94-2.06 2.06-.94-2.06-.94-.94-2.06-.94 2.06-2.06.94zm-11 1L8.5 8.5l.94-2.06 2.06-.94-2.06-.94L8.5 2.5l-.94 2.06-2.06.94zm10 10l.94 2.06.94-2.06 2.06-.94-2.06-.94-.94-2.06-.94 2.06-2.06.94z\"/><path d=\"M17.41 7.96l-1.37-1.37c-.4-.4-.92-.59-1.43-.59-.52 0-1.04.2-1.43.59L10.3 9.45l-7.72 7.72c-.78.78-.78 2.05 0 2.83L4 21.41c.39.39.9.59 1.41.59.51 0 1.02-.2 1.41-.59l7.78-7.78 2.81-2.81c.8-.78.8-2.07 0-2.86zM5.41 20L4 18.59l7.72-7.72 1.47 1.35L5.41 20z\"/>\n",
              "  </svg>\n",
              "      </button>\n",
              "      \n",
              "  <style>\n",
              "    .colab-df-container {\n",
              "      display:flex;\n",
              "      flex-wrap:wrap;\n",
              "      gap: 12px;\n",
              "    }\n",
              "\n",
              "    .colab-df-convert {\n",
              "      background-color: #E8F0FE;\n",
              "      border: none;\n",
              "      border-radius: 50%;\n",
              "      cursor: pointer;\n",
              "      display: none;\n",
              "      fill: #1967D2;\n",
              "      height: 32px;\n",
              "      padding: 0 0 0 0;\n",
              "      width: 32px;\n",
              "    }\n",
              "\n",
              "    .colab-df-convert:hover {\n",
              "      background-color: #E2EBFA;\n",
              "      box-shadow: 0px 1px 2px rgba(60, 64, 67, 0.3), 0px 1px 3px 1px rgba(60, 64, 67, 0.15);\n",
              "      fill: #174EA6;\n",
              "    }\n",
              "\n",
              "    [theme=dark] .colab-df-convert {\n",
              "      background-color: #3B4455;\n",
              "      fill: #D2E3FC;\n",
              "    }\n",
              "\n",
              "    [theme=dark] .colab-df-convert:hover {\n",
              "      background-color: #434B5C;\n",
              "      box-shadow: 0px 1px 3px 1px rgba(0, 0, 0, 0.15);\n",
              "      filter: drop-shadow(0px 1px 2px rgba(0, 0, 0, 0.3));\n",
              "      fill: #FFFFFF;\n",
              "    }\n",
              "  </style>\n",
              "\n",
              "      <script>\n",
              "        const buttonEl =\n",
              "          document.querySelector('#df-80e338b8-cd6a-4bc0-8b90-55f9c272cd38 button.colab-df-convert');\n",
              "        buttonEl.style.display =\n",
              "          google.colab.kernel.accessAllowed ? 'block' : 'none';\n",
              "\n",
              "        async function convertToInteractive(key) {\n",
              "          const element = document.querySelector('#df-80e338b8-cd6a-4bc0-8b90-55f9c272cd38');\n",
              "          const dataTable =\n",
              "            await google.colab.kernel.invokeFunction('convertToInteractive',\n",
              "                                                     [key], {});\n",
              "          if (!dataTable) return;\n",
              "\n",
              "          const docLinkHtml = 'Like what you see? Visit the ' +\n",
              "            '<a target=\"_blank\" href=https://colab.research.google.com/notebooks/data_table.ipynb>data table notebook</a>'\n",
              "            + ' to learn more about interactive tables.';\n",
              "          element.innerHTML = '';\n",
              "          dataTable['output_type'] = 'display_data';\n",
              "          await google.colab.output.renderOutput(dataTable, element);\n",
              "          const docLink = document.createElement('div');\n",
              "          docLink.innerHTML = docLinkHtml;\n",
              "          element.appendChild(docLink);\n",
              "        }\n",
              "      </script>\n",
              "    </div>\n",
              "  </div>\n",
              "  "
            ]
          },
          "metadata": {},
          "execution_count": 43
        }
      ]
    },
    {
      "cell_type": "code",
      "source": [
        "#Separating the target column\n",
        "\n",
        "y = gym.iloc[:, 4]\n",
        "y.head()"
      ],
      "metadata": {
        "colab": {
          "base_uri": "https://localhost:8080/"
        },
        "id": "zMu0Rcfo5LSC",
        "outputId": "d5300aab-048d-46a0-b9f6-b8facc150bda"
      },
      "execution_count": 44,
      "outputs": [
        {
          "output_type": "execute_result",
          "data": {
            "text/plain": [
              "0    Extremely obese\n",
              "1    Extremely obese\n",
              "2    Extremely obese\n",
              "3    Extremely obese\n",
              "4    Extremely obese\n",
              "Name: Class, dtype: object"
            ]
          },
          "metadata": {},
          "execution_count": 44
        }
      ]
    },
    {
      "cell_type": "code",
      "source": [
        "#Splitting the training, test \n",
        "\n",
        "from sklearn.model_selection import train_test_split\n",
        "X_train, X_test, y_train, y_test = train_test_split(X, y, test_size=0.2)"
      ],
      "metadata": {
        "id": "-82Iq-1M5QrQ"
      },
      "execution_count": 45,
      "outputs": []
    },
    {
      "cell_type": "code",
      "source": [
        "for i in [X_train, X_test, y_train, y_test]:\n",
        "    print(i.shape)"
      ],
      "metadata": {
        "colab": {
          "base_uri": "https://localhost:8080/"
        },
        "id": "s44f32Tb0cmd",
        "outputId": "12699a91-1d42-4cf9-a9e7-6b9922feb0b4"
      },
      "execution_count": 48,
      "outputs": [
        {
          "output_type": "stream",
          "name": "stdout",
          "text": [
            "(940, 3)\n",
            "(236, 3)\n",
            "(940,)\n",
            "(236,)\n"
          ]
        }
      ]
    },
    {
      "cell_type": "markdown",
      "source": [
        "## Random Forest"
      ],
      "metadata": {
        "id": "WDeKI1dYncte"
      }
    },
    {
      "cell_type": "code",
      "source": [
        "#Using RandomForestClassifier\n",
        "\n",
        "model_GYM = RandomForestClassifier(n_estimators=100)\n",
        "\n",
        "model_GYM = model_GYM.fit(X_train, y_train)"
      ],
      "metadata": {
        "id": "7sFD38fI6WKg"
      },
      "execution_count": 84,
      "outputs": []
    },
    {
      "cell_type": "code",
      "source": [
        "#Comparing the expected and predicted variables against the model\n",
        "\n",
        "expected = y_test\n",
        "predicted = model_GYM.predict(X_test)"
      ],
      "metadata": {
        "id": "7tkEkUy-9IxA"
      },
      "execution_count": 85,
      "outputs": []
    },
    {
      "cell_type": "code",
      "source": [
        "#finding the accuracy of the model \n",
        "\n",
        "print(metrics.classification_report(expected, predicted))\n",
        "print(metrics.confusion_matrix(expected, predicted))"
      ],
      "metadata": {
        "colab": {
          "base_uri": "https://localhost:8080/"
        },
        "id": "wyKD8wi09aoo",
        "outputId": "e086350b-2cd6-468c-dfdf-a08551eea842"
      },
      "execution_count": 86,
      "outputs": [
        {
          "output_type": "stream",
          "name": "stdout",
          "text": [
            "                 precision    recall  f1-score   support\n",
            "\n",
            "Extremely obese       0.91      0.95      0.93        41\n",
            "       Healthy        0.77      0.80      0.78        50\n",
            "          Obese       0.80      0.79      0.80        57\n",
            "     Overweight       0.72      0.68      0.70        38\n",
            "    Underweight       0.92      0.90      0.91        50\n",
            "\n",
            "       accuracy                           0.83       236\n",
            "      macro avg       0.82      0.82      0.82       236\n",
            "   weighted avg       0.83      0.83      0.83       236\n",
            "\n",
            "[[39  0  2  0  0]\n",
            " [ 0 40  2  4  4]\n",
            " [ 4  2 45  6  0]\n",
            " [ 0  5  7 26  0]\n",
            " [ 0  5  0  0 45]]\n"
          ]
        }
      ]
    },
    {
      "cell_type": "markdown",
      "source": [
        "## Logistic Regression"
      ],
      "metadata": {
        "id": "_6A2ftsYtZlE"
      }
    },
    {
      "cell_type": "code",
      "source": [
        "from sklearn.linear_model import LogisticRegression\n",
        "\n",
        "classifier = LogisticRegression()\n",
        "classifier.fit(X_train, y_train)"
      ],
      "metadata": {
        "colab": {
          "base_uri": "https://localhost:8080/"
        },
        "id": "veapBVke21CJ",
        "outputId": "b23cafd2-bafb-4db4-f756-b3e13aea13c0"
      },
      "execution_count": 61,
      "outputs": [
        {
          "output_type": "stream",
          "name": "stderr",
          "text": [
            "/usr/local/lib/python3.7/dist-packages/sklearn/linear_model/_logistic.py:818: ConvergenceWarning: lbfgs failed to converge (status=1):\n",
            "STOP: TOTAL NO. of ITERATIONS REACHED LIMIT.\n",
            "\n",
            "Increase the number of iterations (max_iter) or scale the data as shown in:\n",
            "    https://scikit-learn.org/stable/modules/preprocessing.html\n",
            "Please also refer to the documentation for alternative solver options:\n",
            "    https://scikit-learn.org/stable/modules/linear_model.html#logistic-regression\n",
            "  extra_warning_msg=_LOGISTIC_SOLVER_CONVERGENCE_MSG,\n"
          ]
        },
        {
          "output_type": "execute_result",
          "data": {
            "text/plain": [
              "LogisticRegression()"
            ]
          },
          "metadata": {},
          "execution_count": 61
        }
      ]
    },
    {
      "cell_type": "code",
      "source": [
        "#Comparing the expected and predicted variables against the model\n",
        "\n",
        "expected = y_test\n",
        "predicted = classifier.predict(X_test)"
      ],
      "metadata": {
        "id": "ZnxG0oHW22hC"
      },
      "execution_count": 62,
      "outputs": []
    },
    {
      "cell_type": "code",
      "source": [
        "#finding the accuracy of the model \n",
        "\n",
        "print(metrics.classification_report(expected, predicted))\n",
        "print(metrics.confusion_matrix(expected, predicted))"
      ],
      "metadata": {
        "colab": {
          "base_uri": "https://localhost:8080/"
        },
        "id": "tds1HPnJ22l8",
        "outputId": "6aa35bb7-8920-4707-a3be-fd6719994ed1"
      },
      "execution_count": 63,
      "outputs": [
        {
          "output_type": "stream",
          "name": "stdout",
          "text": [
            "                 precision    recall  f1-score   support\n",
            "\n",
            "Extremely obese       0.80      0.78      0.79        41\n",
            "       Healthy        0.64      0.64      0.64        50\n",
            "          Obese       0.60      0.67      0.63        57\n",
            "     Overweight       0.45      0.39      0.42        38\n",
            "    Underweight       0.84      0.84      0.84        50\n",
            "\n",
            "       accuracy                           0.67       236\n",
            "      macro avg       0.67      0.66      0.67       236\n",
            "   weighted avg       0.67      0.67      0.67       236\n",
            "\n",
            "[[32  0  9  0  0]\n",
            " [ 0 32  3  7  8]\n",
            " [ 7  1 38 11  0]\n",
            " [ 1  9 13 15  0]\n",
            " [ 0  8  0  0 42]]\n"
          ]
        }
      ]
    },
    {
      "cell_type": "markdown",
      "source": [
        "## Support Vector Machine"
      ],
      "metadata": {
        "id": "zFOjlpuh3pSt"
      }
    },
    {
      "cell_type": "code",
      "source": [
        "# Building a Support Vector Machine on train data\n",
        "\n",
        "svc_model = SVC(C= .1, kernel='linear', gamma= 1)\n",
        "svc_model.fit(X_train, y_train)"
      ],
      "metadata": {
        "colab": {
          "base_uri": "https://localhost:8080/"
        },
        "id": "eUSMpTVj21Lo",
        "outputId": "45581594-3655-4ea9-857e-b1c290d61dbc"
      },
      "execution_count": 66,
      "outputs": [
        {
          "output_type": "execute_result",
          "data": {
            "text/plain": [
              "SVC(C=0.1, gamma=1, kernel='linear')"
            ]
          },
          "metadata": {},
          "execution_count": 66
        }
      ]
    },
    {
      "cell_type": "code",
      "source": [
        "#Comparing the expected and predicted variables against the model\n",
        "\n",
        "expected = y_test\n",
        "predicted = svc_model.predict(X_test)"
      ],
      "metadata": {
        "id": "PNouQdjS3z7H"
      },
      "execution_count": 67,
      "outputs": []
    },
    {
      "cell_type": "code",
      "source": [
        "#finding the accuracy of the model \n",
        "\n",
        "print(metrics.classification_report(expected, predicted))\n",
        "print(metrics.confusion_matrix(expected, predicted))"
      ],
      "metadata": {
        "colab": {
          "base_uri": "https://localhost:8080/"
        },
        "id": "nyWO1pdJ3z9h",
        "outputId": "e7e2ec89-a405-4b21-c756-f55657089161"
      },
      "execution_count": 68,
      "outputs": [
        {
          "output_type": "stream",
          "name": "stdout",
          "text": [
            "                 precision    recall  f1-score   support\n",
            "\n",
            "Extremely obese       0.85      0.80      0.83        41\n",
            "       Healthy        0.69      0.70      0.69        50\n",
            "          Obese       0.65      0.79      0.71        57\n",
            "     Overweight       0.56      0.47      0.51        38\n",
            "    Underweight       0.91      0.82      0.86        50\n",
            "\n",
            "       accuracy                           0.73       236\n",
            "      macro avg       0.73      0.72      0.72       236\n",
            "   weighted avg       0.73      0.73      0.73       236\n",
            "\n",
            "[[33  0  8  0  0]\n",
            " [ 0 35  3  8  4]\n",
            " [ 6  0 45  6  0]\n",
            " [ 0  7 13 18  0]\n",
            " [ 0  9  0  0 41]]\n"
          ]
        }
      ]
    },
    {
      "cell_type": "markdown",
      "source": [
        "## XGBOOST"
      ],
      "metadata": {
        "id": "qI9vuhqS4puD"
      }
    },
    {
      "cell_type": "code",
      "source": [
        "# Fitting XGBoost to the training data\n",
        "import xgboost as xgb\n",
        "xg_model = xgb.XGBClassifier()\n",
        "xg_model.fit(X_train, y_train)"
      ],
      "metadata": {
        "colab": {
          "base_uri": "https://localhost:8080/"
        },
        "id": "ljiZ-L1B4pHi",
        "outputId": "c82985ec-50f5-4f08-826f-e85eb6f78bb1"
      },
      "execution_count": 69,
      "outputs": [
        {
          "output_type": "execute_result",
          "data": {
            "text/plain": [
              "XGBClassifier(objective='multi:softprob')"
            ]
          },
          "metadata": {},
          "execution_count": 69
        }
      ]
    },
    {
      "cell_type": "code",
      "source": [
        "#Comparing the expected and predicted variables against the model\n",
        "\n",
        "expected = y_test\n",
        "predicted = xg_model.predict(X_test)"
      ],
      "metadata": {
        "id": "fdrleMXr46Sg"
      },
      "execution_count": 70,
      "outputs": []
    },
    {
      "cell_type": "code",
      "source": [
        "#finding the accuracy of the model \n",
        "\n",
        "print(metrics.classification_report(expected, predicted))\n",
        "print(metrics.confusion_matrix(expected, predicted))"
      ],
      "metadata": {
        "colab": {
          "base_uri": "https://localhost:8080/"
        },
        "id": "TtjhRYl95Mty",
        "outputId": "2b23b6e7-93ab-42ee-cd11-77e5e96cc1e3"
      },
      "execution_count": 71,
      "outputs": [
        {
          "output_type": "stream",
          "name": "stdout",
          "text": [
            "                 precision    recall  f1-score   support\n",
            "\n",
            "Extremely obese       0.90      0.93      0.92        41\n",
            "       Healthy        0.81      0.76      0.78        50\n",
            "          Obese       0.73      0.82      0.78        57\n",
            "     Overweight       0.57      0.55      0.56        38\n",
            "    Underweight       0.96      0.88      0.92        50\n",
            "\n",
            "       accuracy                           0.80       236\n",
            "      macro avg       0.79      0.79      0.79       236\n",
            "   weighted avg       0.80      0.80      0.80       236\n",
            "\n",
            "[[38  0  3  0  0]\n",
            " [ 0 38  0 10  2]\n",
            " [ 4  0 47  6  0]\n",
            " [ 0  3 14 21  0]\n",
            " [ 0  6  0  0 44]]\n"
          ]
        }
      ]
    },
    {
      "cell_type": "markdown",
      "source": [
        "### Pickle"
      ],
      "metadata": {
        "id": "WOOvi6MnCvUg"
      }
    },
    {
      "cell_type": "code",
      "source": [
        "#Importing the pickle file to flatten the model\n",
        "\n",
        "import pickle"
      ],
      "metadata": {
        "id": "tI6FSxBwJ-my"
      },
      "execution_count": 87,
      "outputs": []
    },
    {
      "cell_type": "code",
      "source": [
        "#Creating a Model_GYM pickle file\n",
        "\n",
        "pickle.dump(model_GYM, open(\"Model.pkl\", \"wb\"))"
      ],
      "metadata": {
        "id": "rYo8dhu4KDuE"
      },
      "execution_count": 88,
      "outputs": []
    },
    {
      "cell_type": "code",
      "source": [
        "model = pickle.load(open(\"Model.pkl\", \"rb\"))"
      ],
      "metadata": {
        "id": "jgQxv3_wKDxd"
      },
      "execution_count": 89,
      "outputs": []
    },
    {
      "cell_type": "code",
      "source": [
        "print(model.predict([[24, 6, 60]]))"
      ],
      "metadata": {
        "id": "scNOKuRq-akw",
        "colab": {
          "base_uri": "https://localhost:8080/"
        },
        "outputId": "c081046e-74fb-404b-c8d3-ad7dba5a2afc"
      },
      "execution_count": 92,
      "outputs": [
        {
          "output_type": "stream",
          "name": "stdout",
          "text": [
            "['Underweight']\n"
          ]
        },
        {
          "output_type": "stream",
          "name": "stderr",
          "text": [
            "/usr/local/lib/python3.7/dist-packages/sklearn/base.py:451: UserWarning: X does not have valid feature names, but RandomForestClassifier was fitted with feature names\n",
            "  \"X does not have valid feature names, but\"\n"
          ]
        }
      ]
    },
    {
      "cell_type": "code",
      "source": [
        "print(model.predict([[40, 5.5, 70]]))"
      ],
      "metadata": {
        "id": "pqKcoHSgJ010",
        "colab": {
          "base_uri": "https://localhost:8080/"
        },
        "outputId": "7bfc6a44-b0b8-4429-d0c3-c53f2bd2edad"
      },
      "execution_count": 91,
      "outputs": [
        {
          "output_type": "stream",
          "name": "stdout",
          "text": [
            "['Overweight']\n"
          ]
        },
        {
          "output_type": "stream",
          "name": "stderr",
          "text": [
            "/usr/local/lib/python3.7/dist-packages/sklearn/base.py:451: UserWarning: X does not have valid feature names, but RandomForestClassifier was fitted with feature names\n",
            "  \"X does not have valid feature names, but\"\n"
          ]
        }
      ]
    },
    {
      "cell_type": "code",
      "source": [
        ""
      ],
      "metadata": {
        "id": "gjD9rZvGCRi2"
      },
      "execution_count": null,
      "outputs": []
    }
  ]
}